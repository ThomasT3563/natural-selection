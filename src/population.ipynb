{
 "cells": [
  {
   "cell_type": "code",
   "execution_count": null,
   "metadata": {},
   "outputs": [],
   "source": [
    "import numpy as np\n",
    "import random"
   ]
  },
  {
   "cell_type": "code",
   "execution_count": null,
   "metadata": {},
   "outputs": [],
   "source": [
    "# CLASS POPULATION\n",
    "\n",
    "class population(object):\n",
    "    def __init__(self,nombre_individus,map_size,espece):\n",
    "        self.map_size = map_size\n",
    "        self.list_individus = [espece(self.map_size) for _ in range(int(nombre_individus))]\n",
    "        self.nombre_individus = len(self.list_individus)\n",
    "        assert(len(self.list_individus)==self.nombre_individus), str(len(self.list_individus))+'!='+str(self.nombre_individus)\n",
    "        self.demographie = [self.nombre_individus,]\n",
    "    \n",
    "    def generate(self,number,espece):\n",
    "        if number < 1.:\n",
    "            if (random.randrange(100) < number*100):\n",
    "                self.list_individus.append(espece(self.map_size))\n",
    "        else:\n",
    "            for i in range(number):\n",
    "                self.list_individus.append(espece(self.map_size))\n",
    "        self.nombre_individus = len(self.list_individus)\n",
    "    \n",
    "    def get_coords(self):\n",
    "        list_X = []\n",
    "        list_Y = []\n",
    "        for individu in self.list_individus:\n",
    "            list_X.append(individu.X)\n",
    "            list_Y.append(individu.Y)\n",
    "        return np.array(list_X),np.array(list_Y)\n",
    "    \n",
    "    def deplacement(self):\n",
    "        [individu.move(self.map_size) for individu in self.list_individus]\n",
    "    \n",
    "    def search_food(self,nourriture):\n",
    "        [individu.search_food(nourriture) for individu in self.list_individus]\n",
    "        \n",
    "    def starve(self):\n",
    "        for idx,individu in enumerate(self.list_individus):\n",
    "            if individu.starve():\n",
    "                del(self.list_individus[idx])\n",
    "                self.nombre_individus -= 1\n",
    "                \n",
    "    def reproduce(self):\n",
    "        new_individus = []\n",
    "        for individu in self.list_individus:\n",
    "            new_individus.extend(individu.reproduce(self.map_size))\n",
    "        \n",
    "        self.list_individus.extend(new_individus)\n",
    "        self.nombre_individus = len(self.list_individus)"
   ]
  },
  {
   "cell_type": "code",
   "execution_count": null,
   "metadata": {},
   "outputs": [],
   "source": []
  }
 ],
 "metadata": {
  "kernelspec": {
   "display_name": "Python 3",
   "language": "python",
   "name": "python3"
  },
  "language_info": {
   "codemirror_mode": {
    "name": "ipython",
    "version": 3
   },
   "file_extension": ".py",
   "mimetype": "text/x-python",
   "name": "python",
   "nbconvert_exporter": "python",
   "pygments_lexer": "ipython3",
   "version": "3.6.8"
  }
 },
 "nbformat": 4,
 "nbformat_minor": 2
}
