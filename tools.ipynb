{
 "cells": [
  {
   "cell_type": "code",
   "execution_count": null,
   "metadata": {},
   "outputs": [],
   "source": [
    "import numpy as np\n",
    "import matplotlib\n",
    "import matplotlib.pyplot as plt\n",
    "from matplotlib.animation import ImageMagickFileWriter"
   ]
  },
  {
   "cell_type": "code",
   "execution_count": null,
   "metadata": {},
   "outputs": [],
   "source": [
    "def init_writer(map_size):\n",
    "    \n",
    "    metadata = dict(title='Natural selection', artist='Matplotlib',comment='')\n",
    "    writer = ImageMagickFileWriter(fps=7, metadata=metadata)\n",
    "    \n",
    "    fig = plt.figure(figsize=(8,8))\n",
    "    ax = fig.gca()\n",
    "\n",
    "    ax.set_xticks(np.arange(0, map_size[0]+1, 1))\n",
    "    ax.set_yticks(np.arange(0, map_size[1]+1, 1))\n",
    "    plt.grid()\n",
    "    \n",
    "    plt.xlim(0, map_size[0])\n",
    "    plt.ylim(0, map_size[1])\n",
    "\n",
    "    graph_c, = plt.plot([],[],color='firebrick',marker=\"o\",linestyle=\"\",markersize=20)\n",
    "    graph_h, = plt.plot([],[],color='dodgerblue',marker=\"o\",linestyle=\"\",markersize=20)\n",
    "    graph_p, = plt.plot([],[],color='green',marker=\"D\",linestyle=\"\",markersize=10)\n",
    "    \n",
    "    #a.set_color('red')\n",
    "    #a.set_marker\n",
    "    #a.set_label\n",
    "    \n",
    "    return writer,fig,graph_h,graph_p,graph_c\n",
    "    \n",
    "    \n",
    "def update_writer(writer,graph_h,graph_p,graph_c,herbivores,plantes,carnivores):\n",
    "    \n",
    "    position_X,position_Y = herbivores.get_coords()\n",
    "    graph_h.set_data(position_X,position_Y)\n",
    "    \n",
    "    position_X,position_Y = carnivores.get_coords()\n",
    "    graph_c.set_data(position_X,position_Y)\n",
    "    \n",
    "    position_X,position_Y = plantes.get_coords()\n",
    "    graph_p.set_data(position_X,position_Y)\n",
    "    \n",
    "    writer.grab_frame()"
   ]
  }
 ],
 "metadata": {
  "kernelspec": {
   "display_name": "Python 3",
   "language": "python",
   "name": "python3"
  },
  "language_info": {
   "codemirror_mode": {
    "name": "ipython",
    "version": 3
   },
   "file_extension": ".py",
   "mimetype": "text/x-python",
   "name": "python",
   "nbconvert_exporter": "python",
   "pygments_lexer": "ipython3",
   "version": "3.6.8"
  }
 },
 "nbformat": 4,
 "nbformat_minor": 2
}
