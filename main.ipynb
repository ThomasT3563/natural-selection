{
 "cells": [
  {
   "cell_type": "raw",
   "metadata": {},
   "source": [
    "TODO :\n",
    "    \n",
    "- separation de search_food() en locate_food() et eat()\n",
    "- ajout de fuite pour les proies\n",
    "    - direction fuite (voir DEV)\n",
    "    - distance de fuite"
   ]
  },
  {
   "cell_type": "code",
   "execution_count": 1,
   "metadata": {},
   "outputs": [],
   "source": [
    "import time\n",
    "import random\n",
    "import import_ipynb\n",
    "import sys"
   ]
  },
  {
   "cell_type": "code",
   "execution_count": 2,
   "metadata": {},
   "outputs": [
    {
     "name": "stdout",
     "output_type": "stream",
     "text": [
      "importing Jupyter notebook from tools.ipynb\n",
      "importing Jupyter notebook from population.ipynb\n",
      "importing Jupyter notebook from individus.ipynb\n",
      "importing Jupyter notebook from especes.ipynb\n"
     ]
    }
   ],
   "source": [
    "from tools import init_writer, update_writer\n",
    "from population import population\n",
    "from individus import individus\n",
    "from especes import espece_herbivore,espece_plante, espece_carnivore"
   ]
  },
  {
   "cell_type": "code",
   "execution_count": 3,
   "metadata": {},
   "outputs": [],
   "source": [
    "# GLOBAL PARAMETERS\n",
    "\n",
    "map_size = [40,40]\n",
    "nombre_jours = 200"
   ]
  },
  {
   "cell_type": "code",
   "execution_count": 4,
   "metadata": {},
   "outputs": [
    {
     "data": {
      "image/png": "[encoded data removed]",
      "text/plain": [
       "<Figure size 576x576 with 1 Axes>"
      ]
     },
     "metadata": {
      "needs_background": "light"
     },
     "output_type": "display_data"
    }
   ],
   "source": [
    "# COMPUTED PARAMETERS\n",
    "\n",
    "nombre_iterations = nombre_jours*25\n",
    "writer,fig,graph_h,graph_p,graph_c = init_writer(map_size)"
   ]
  },
  {
   "cell_type": "code",
   "execution_count": 5,
   "metadata": {},
   "outputs": [
    {
     "name": "stdout",
     "output_type": "stream",
     "text": [
      "iteration: 517/5000\n",
      "Too many entities -> EXIT\n"
     ]
    },
    {
     "ename": "RuntimeError",
     "evalue": "Error creating movie, return code: 1",
     "output_type": "error",
     "traceback": [
      "\u001b[0;31m---------------------------------------------------------------------------\u001b[0m",
      "\u001b[0;31mRuntimeError\u001b[0m                              Traceback (most recent call last)",
      "\u001b[0;32m<ipython-input-5-5f99cead3eb9>\u001b[0m in \u001b[0;36m<module>\u001b[0;34m\u001b[0m\n\u001b[1;32m     38\u001b[0m         \u001b[0;32mif\u001b[0m \u001b[0mplantes\u001b[0m\u001b[0;34m.\u001b[0m\u001b[0mnombre_individus\u001b[0m\u001b[0;34m>\u001b[0m\u001b[0;36m400\u001b[0m \u001b[0;32mor\u001b[0m \u001b[0mcarnivores\u001b[0m\u001b[0;34m.\u001b[0m\u001b[0mnombre_individus\u001b[0m\u001b[0;34m==\u001b[0m\u001b[0;36m0\u001b[0m\u001b[0;34m:\u001b[0m\u001b[0;34m\u001b[0m\u001b[0;34m\u001b[0m\u001b[0m\n\u001b[1;32m     39\u001b[0m             \u001b[0mprint\u001b[0m\u001b[0;34m(\u001b[0m\u001b[0;34m\"\\nToo many entities -> EXIT\"\u001b[0m\u001b[0;34m)\u001b[0m\u001b[0;34m\u001b[0m\u001b[0;34m\u001b[0m\u001b[0m\n\u001b[0;32m---> 40\u001b[0;31m             \u001b[0;32mbreak\u001b[0m\u001b[0;34m\u001b[0m\u001b[0;34m\u001b[0m\u001b[0m\n\u001b[0m\u001b[1;32m     41\u001b[0m             \u001b[0;31m#sys.exit(\"Too many entities\")\u001b[0m\u001b[0;34m\u001b[0m\u001b[0;34m\u001b[0m\u001b[0;34m\u001b[0m\u001b[0m\n\u001b[1;32m     42\u001b[0m \u001b[0;34m\u001b[0m\u001b[0m\n",
      "\u001b[0;32m/usr/lib/python3.6/contextlib.py\u001b[0m in \u001b[0;36m__exit__\u001b[0;34m(self, type, value, traceback)\u001b[0m\n\u001b[1;32m     86\u001b[0m         \u001b[0;32mif\u001b[0m \u001b[0mtype\u001b[0m \u001b[0;32mis\u001b[0m \u001b[0;32mNone\u001b[0m\u001b[0;34m:\u001b[0m\u001b[0;34m\u001b[0m\u001b[0;34m\u001b[0m\u001b[0m\n\u001b[1;32m     87\u001b[0m             \u001b[0;32mtry\u001b[0m\u001b[0;34m:\u001b[0m\u001b[0;34m\u001b[0m\u001b[0;34m\u001b[0m\u001b[0m\n\u001b[0;32m---> 88\u001b[0;31m                 \u001b[0mnext\u001b[0m\u001b[0;34m(\u001b[0m\u001b[0mself\u001b[0m\u001b[0;34m.\u001b[0m\u001b[0mgen\u001b[0m\u001b[0;34m)\u001b[0m\u001b[0;34m\u001b[0m\u001b[0;34m\u001b[0m\u001b[0m\n\u001b[0m\u001b[1;32m     89\u001b[0m             \u001b[0;32mexcept\u001b[0m \u001b[0mStopIteration\u001b[0m\u001b[0;34m:\u001b[0m\u001b[0;34m\u001b[0m\u001b[0;34m\u001b[0m\u001b[0m\n\u001b[1;32m     90\u001b[0m                 \u001b[0;32mreturn\u001b[0m \u001b[0;32mFalse\u001b[0m\u001b[0;34m\u001b[0m\u001b[0;34m\u001b[0m\u001b[0m\n",
      "\u001b[0;32m~/.local/lib/python3.6/site-packages/matplotlib/animation.py\u001b[0m in \u001b[0;36msaving\u001b[0;34m(self, fig, outfile, dpi, *args, **kwargs)\u001b[0m\n\u001b[1;32m    230\u001b[0m             \u001b[0;32myield\u001b[0m \u001b[0mself\u001b[0m\u001b[0;34m\u001b[0m\u001b[0;34m\u001b[0m\u001b[0m\n\u001b[1;32m    231\u001b[0m         \u001b[0;32mfinally\u001b[0m\u001b[0;34m:\u001b[0m\u001b[0;34m\u001b[0m\u001b[0;34m\u001b[0m\u001b[0m\n\u001b[0;32m--> 232\u001b[0;31m             \u001b[0mself\u001b[0m\u001b[0;34m.\u001b[0m\u001b[0mfinish\u001b[0m\u001b[0;34m(\u001b[0m\u001b[0;34m)\u001b[0m\u001b[0;34m\u001b[0m\u001b[0;34m\u001b[0m\u001b[0m\n\u001b[0m\u001b[1;32m    233\u001b[0m \u001b[0;34m\u001b[0m\u001b[0m\n\u001b[1;32m    234\u001b[0m \u001b[0;34m\u001b[0m\u001b[0m\n",
      "\u001b[0;32m~/.local/lib/python3.6/site-packages/matplotlib/animation.py\u001b[0m in \u001b[0;36mfinish\u001b[0;34m(self)\u001b[0m\n\u001b[1;32m    532\u001b[0m                 \u001b[0;32mpass\u001b[0m\u001b[0;34m\u001b[0m\u001b[0;34m\u001b[0m\u001b[0m\n\u001b[1;32m    533\u001b[0m             raise RuntimeError('Error creating movie, return code: {}'\n\u001b[0;32m--> 534\u001b[0;31m                                .format(self._proc.returncode))\n\u001b[0m\u001b[1;32m    535\u001b[0m \u001b[0;34m\u001b[0m\u001b[0m\n\u001b[1;32m    536\u001b[0m     \u001b[0;32mdef\u001b[0m \u001b[0mcleanup\u001b[0m\u001b[0;34m(\u001b[0m\u001b[0mself\u001b[0m\u001b[0;34m)\u001b[0m\u001b[0;34m:\u001b[0m\u001b[0;34m\u001b[0m\u001b[0;34m\u001b[0m\u001b[0m\n",
      "\u001b[0;31mRuntimeError\u001b[0m: Error creating movie, return code: 1"
     ]
    }
   ],
   "source": [
    "# PLAY\n",
    "\n",
    "t_start = time.time()\n",
    "\n",
    "herbivores = population(nombre_individus=10,map_size=map_size,espece=espece_herbivore)\n",
    "plantes    = population(nombre_individus=10,map_size=map_size,espece=espece_plante)\n",
    "carnivores = population(nombre_individus=5,map_size=map_size,espece=espece_carnivore)\n",
    "\n",
    "with writer.saving(fig, \"./gifs/GIF_\"+str(random.randint(0,1e5))+\"_.gif\", dpi=70):    \n",
    "    for i in range(nombre_iterations):\n",
    "\n",
    "        sys.stdout.write(\"\\riteration: %s/%s\" % (i+1,nombre_iterations))\n",
    "\n",
    "        plantes.reproduce()\n",
    "        plantes.generate(0.5,espece_plante) # 12.5/jour\n",
    "\n",
    "        carnivores.search_food(herbivores)\n",
    "        carnivores.reproduce()\n",
    "        carnivores.deplacement()\n",
    "        carnivores.starve()\n",
    "        carnivores.search_food(herbivores)\n",
    "        #carnivores.generate(0.02,espece_carnivore) # 0.5/jour\n",
    "\n",
    "        herbivores.search_food(plantes)\n",
    "        herbivores.reproduce()\n",
    "        herbivores.deplacement()\n",
    "        herbivores.starve()\n",
    "        #herbivores.generate(0.08,espece_herbivore) # 1/jour\n",
    "\n",
    "        # stats\n",
    "        #update_writer(writer,graph_h,graph_p,graph_c,herbivores,plantes,carnivores)\n",
    "\n",
    "        plantes.demographie.append(plantes.nombre_individus)\n",
    "        carnivores.demographie.append(carnivores.nombre_individus)\n",
    "        herbivores.demographie.append(herbivores.nombre_individus)\n",
    "\n",
    "        #securité\n",
    "        if plantes.nombre_individus>400 or carnivores.nombre_individus==0:\n",
    "            print(\"\\nToo many entities -> EXIT\")\n",
    "            break\n",
    "            #sys.exit(\"Too many entities\")\n",
    "\n",
    "                \n",
    "t_exec = time.time()-t_start\n",
    "print(\"\\ntime :\",t_exec,\"sec\")"
   ]
  },
  {
   "cell_type": "code",
   "execution_count": null,
   "metadata": {},
   "outputs": [],
   "source": [
    "import matplotlib.pyplot as plt\n",
    "import numpy as np\n",
    "\n",
    "##############################\n",
    "\n",
    "fig = plt.figure(figsize=(10,6))\n",
    "host = fig.add_subplot(111)\n",
    "\n",
    "par1 = host.twinx()\n",
    "par2 = host.twinx()\n",
    "\n",
    "host.set_xlabel(\"iterations\")\n",
    "host.set_ylabel(\"herbivores\")\n",
    "par1.set_ylabel(\"carnivores\")\n",
    "par2.set_ylabel(\"plantes\")\n",
    "\n",
    "p1, = host.plot(herbivores.demographie, color='dodgerblue',label=\"herbivores\")\n",
    "p2, = par1.plot(carnivores.demographie, color='firebrick', label=\"carnivores\")\n",
    "p3, = par2.plot(plantes.demographie, color='green', label=\"plantes\")\n",
    "\n",
    "lns = [p1, p2, p3]\n",
    "plt.title(\"Démographies\")\n",
    "host.legend(handles=lns, loc='upper left')\n",
    "\n",
    "# right, left, top, bottom\n",
    "par2.spines['right'].set_position(('outward', 60))      \n",
    "# no x-ticks                 \n",
    "#par2.xaxis.set_ticks([])\n",
    "# Sometimes handy, same for xaxis\n",
    "#par2.yaxis.set_ticks_position('right')\n",
    "\n",
    "host.yaxis.label.set_color(p1.get_color())\n",
    "par1.yaxis.label.set_color(p2.get_color())\n",
    "par2.yaxis.label.set_color(p3.get_color())\n",
    "\n",
    "#################################\n",
    "\n",
    "plt.figure(figsize=(10,6))\n",
    "plt.plot((np.log10(np.array(plantes.demographie)+1)/(np.array(herbivores.demographie)+1)),'orange')\n",
    "plt.title(\"Log10 plants/herbivore\")\n",
    "plt.show()"
   ]
  }
 ],
 "metadata": {
  "kernelspec": {
   "display_name": "Python 3",
   "language": "python",
   "name": "python3"
  },
  "language_info": {
   "codemirror_mode": {
    "name": "ipython",
    "version": 3
   },
   "file_extension": ".py",
   "mimetype": "text/x-python",
   "name": "python",
   "nbconvert_exporter": "python",
   "pygments_lexer": "ipython3",
   "version": "3.6.8"
  }
 },
 "nbformat": 4,
 "nbformat_minor": 2
}
