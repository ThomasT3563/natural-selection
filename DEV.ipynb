{
 "cells": [
  {
   "cell_type": "code",
   "execution_count": 1,
   "metadata": {},
   "outputs": [],
   "source": [
    "import numpy as np\n",
    "import matplotlib.pyplot as plt\n",
    "import random"
   ]
  },
  {
   "cell_type": "code",
   "execution_count": 2,
   "metadata": {},
   "outputs": [
    {
     "name": "stdout",
     "output_type": "stream",
     "text": [
      "B: [2.3, 1.7, -1.4] [2.0, 1.1, -1.3]\n"
     ]
    }
   ],
   "source": [
    "A_x = 0\n",
    "A_y = 0\n",
    "\n",
    "nb_points = 3\n",
    "\n",
    "B_x = [ random.randint(-30,30)/10. for _ in range(nb_points)]\n",
    "B_y = [ random.randint(-30,30)/10. for _ in range(nb_points)]\n",
    "print(\"B:\",B_x,B_y)"
   ]
  },
  {
   "cell_type": "code",
   "execution_count": 3,
   "metadata": {},
   "outputs": [
    {
     "name": "stdout",
     "output_type": "stream",
     "text": [
      "d: [3.047950130825634, 2.0248456731316584, 1.91049731745428]\n",
      "nv: [[-0.7546055221635046, -0.6561787149247866], [-0.8395701571521512, -0.5432512781572744], [0.7327934916262991, 0.6804510993672778]]\n",
      "vecteur fuite: -0.9094368979245164 -0.4158419515794824\n"
     ]
    }
   ],
   "source": [
    "distance_fuite = 5.\n",
    "\n",
    "distance = [np.sqrt(x**2+y**2) for x,y in zip(B_x,B_y)]\n",
    "norm_vecteur = [ [(A_x-x)/d,(A_y-y)/d] for x,y,d in zip(B_x,B_y,distance)] #vecteur de fuite\n",
    "\n",
    "print(\"d:\",distance)\n",
    "print(\"nv:\",norm_vecteur)\n",
    "\n",
    "vfx = 0.\n",
    "vfy = 0.\n",
    "for [x,y],d in zip(norm_vecteur,distance):\n",
    "    vfx += x/d\n",
    "    vfy += y/d\n",
    "    \n",
    "dvf = np.sqrt(vfx**2+vfy**2)\n",
    "vfx = vfx/dvf\n",
    "vfy = vfy/dvf\n",
    "print(\"vecteur fuite:\",vfx,vfy)"
   ]
  },
  {
   "cell_type": "code",
   "execution_count": 4,
   "metadata": {},
   "outputs": [
    {
     "data": {
      "image/png": "[encoded data removed]",
      "text/plain": [
       "<Figure size 432x288 with 1 Axes>"
      ]
     },
     "metadata": {
      "needs_background": "light"
     },
     "output_type": "display_data"
    }
   ],
   "source": [
    "plt.plot(B_x,B_y,'rx',markersize=10)\n",
    "plt.plot(A_x,A_y,'bo',markersize=10)\n",
    "plt.plot([A_x,vfx],[A_y,vfy],c='orange',marker='o')\n",
    "plt.grid()\n",
    "plt.show()"
   ]
  },
  {
   "cell_type": "code",
   "execution_count": null,
   "metadata": {},
   "outputs": [],
   "source": []
  }
 ],
 "metadata": {
  "kernelspec": {
   "display_name": "Python 3",
   "language": "python",
   "name": "python3"
  },
  "language_info": {
   "codemirror_mode": {
    "name": "ipython",
    "version": 3
   },
   "file_extension": ".py",
   "mimetype": "text/x-python",
   "name": "python",
   "nbconvert_exporter": "python",
   "pygments_lexer": "ipython3",
   "version": "3.6.8"
  }
 },
 "nbformat": 4,
 "nbformat_minor": 2
}
